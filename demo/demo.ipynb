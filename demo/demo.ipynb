{
 "cells": [
  {
   "cell_type": "code",
   "execution_count": 1,
   "id": "02be3970",
   "metadata": {},
   "outputs": [],
   "source": [
    "import matplotlib.pyplot as plt\n",
    "from matplotlib.scale import FuncScale\n",
    "import numpy as np\n",
    "import scipy\n",
    "from sklearn.metrics import (\n",
    "    roc_auc_score,\n",
    "    roc_auc_score,\n",
    "    roc_curve,\n",
    "    precision_recall_curve,\n",
    ")\n",
    "\n",
    "from briertools.scorers import DCAScorer, LogLossScorer, BrierScorer\n",
    "\n",
    "plt.rcParams['figure.figsize'] = (20, 10)\n",
    "plt.rcParams['font.size'] = 20"
   ]
  },
  {
   "cell_type": "code",
   "execution_count": 2,
   "id": "1af2bf69",
   "metadata": {},
   "outputs": [],
   "source": [
    "log_loss_scorer = LogLossScorer()\n",
    "dca_scorer = DCAScorer()\n",
    "brier_scorer = BrierScorer()"
   ]
  },
  {
   "cell_type": "markdown",
   "id": "4977a062",
   "metadata": {},
   "source": [
    "## Set up helper functions\n",
    "The `simulate_binormal` function does [TODO: explain what the hell this does]"
   ]
  },
  {
   "cell_type": "code",
   "execution_count": 3,
   "id": "feefa70f",
   "metadata": {},
   "outputs": [],
   "source": [
    "def simulate_binormal(loc, scale=1, scale_neg=1, loc_neg=None, n=3000, fix=True):\n",
    "    if loc_neg is None:\n",
    "        loc_neg = -loc\n",
    "    neg = np.random.normal(loc=loc_neg, scale=scale_neg, size=n)\n",
    "    pos = np.random.normal(loc=loc, scale=scale, size=n)\n",
    "    if fix:\n",
    "        pos, neg = neg, pos\n",
    "    y_pred = scipy.special.expit(np.concatenate([pos, neg]))\n",
    "    y_true = np.concatenate([pos * 0 + 1, neg * 0])\n",
    "    \n",
    "    return y_pred, y_true\n",
    "\n",
    "def scale_x_one_minus_one_minus_x_2(ax):\n",
    "    def forward(x):\n",
    "        return 1 - (1 - x)**2  # This is the actual transformation for labels\n",
    "    def inverse(y):\n",
    "        one_minus = 1 - y\n",
    "        return 1 - np.sign(one_minus) * np.sqrt(np.abs(one_minus))\n",
    "    ax.set_xscale(FuncScale(ax.xaxis, (forward, inverse)))\n",
    "    ax.set_title(\"1-(1-x)^2\")"
   ]
  },
  {
   "cell_type": "markdown",
   "id": "b75ccf3d",
   "metadata": {},
   "source": [
    "## Toy Examples"
   ]
  },
  {
   "attachments": {},
   "cell_type": "markdown",
   "id": "e0ca79af",
   "metadata": {},
   "source": [
    "### Sentencing Example\n",
    "While Blackstone's maxim asserts the cost ratio of false negatives to false positives should be 10:1, Benjamin Franklin later advocated for a cost ratio of 100:1. \n",
    "\n",
    "Let's compare two sentencing classifiers across a range of relevant cost ratios.\n",
    "The shaded area will represent the practical range of cost ratios discussed in the article.\n",
    "\n",
    "While the blue classifier achieves higher accuracy under traditional 1:1 cost assumptions, the orange classifier demonstrates superior performance across the practically relevant range of cost ratios (5:1 to 100:1)."
   ]
  },
  {
   "cell_type": "code",
   "execution_count": 4,
   "id": "54db1a37",
   "metadata": {},
   "outputs": [
    {
     "data": {
      "image/png": "[encoded data removed]",
      "text/plain": [
       "<Figure size 432x288 with 1 Axes>"
      ]
     },
     "metadata": {
      "needs_background": "light"
     },
     "output_type": "display_data"
    }
   ],
   "source": [
    "y_pred, y_true = simulate_binormal(1, 2, scale_neg=2)\n",
    "log_loss_scorer.plot_curve(       \n",
    "        y_true,\n",
    "        y_pred,\n",
    "        threshold_range=(0.003, 0.55),\n",
    "        fill_range=(1.0 / 101, 1.0 / 6),\n",
    "        ticks=[1.0 / 101, 1.0 / 6, 1.0 / 2],\n",
    ")\n",
    "y_pred, y_true = simulate_binormal(1, 1)\n",
    "log_loss_scorer.plot_curve(\n",
    "        y_true,\n",
    "        y_pred,\n",
    "        threshold_range=(0.003, 0.55),\n",
    "        fill_range=(1.0 / 101, 1.0 / 6),\n",
    "        ticks=[1.0 / 101, 1.0 / 6, 1.0 / 2],\n",
    ")"
   ]
  },
  {
   "cell_type": "markdown",
   "id": "e77530f8",
   "metadata": {},
   "source": [
    "### Fraud Example"
   ]
  },
  {
   "cell_type": "code",
   "execution_count": null,
   "id": "573d8d0e",
   "metadata": {},
   "outputs": [],
   "source": [
    "y_pred, y_true = simulate_binormal(1, 1.5)\n",
    "log_loss_scorer.plot_curve(\n",
    "        y_true,\n",
    "        y_pred,\n",
    "        threshold_range=(0.333, 0.995),\n",
    "        fill_range=(0.925, 0.983),\n",
    "        ticks=[1.0 / 2, 10.0 / 11, 100.0 / 101],\n",
    ")\n",
    "\n",
    "y_pred, y_true = simulate_binormal(1, 5)\n",
    "log_loss_scorer.plot_curve(\n",
    "        y_true,\n",
    "        y_pred,\n",
    "        threshold_range=(0.333, 0.995),\n",
    "        fill_range=(0.925, 0.983),\n",
    "        ticks=[1.0 / 2, 10.0 / 11, 100.0 / 101],\n",
    ")"
   ]
  },
  {
   "cell_type": "markdown",
   "id": "cccd6560",
   "metadata": {},
   "source": [
    "### Cancer Example"
   ]
  },
  {
   "cell_type": "code",
   "execution_count": null,
   "id": "497a9cfe",
   "metadata": {},
   "outputs": [],
   "source": [
    "y_pred, y_true = simulate_binormal(1, 1, scale_neg=8)\n",
    "log_loss_scorer.plot_curve(\n",
    "    y_true,\n",
    "    y_pred,\n",
    "    threshold_range=(0.03, 0.66),\n",
    "    fill_range=(1.0 / 11, 1.0 / 3),\n",
    "    ticks=[1.0 / 11, 1.0 / 3, 1.0 / 2],\n",
    ")\n",
    "\n",
    "y_pred, y_true = simulate_binormal(1, 1)\n",
    "log_loss_scorer.plot_curve(\n",
    "    y_true,\n",
    "    y_pred,\n",
    "    threshold_range=(0.03, 0.66),\n",
    "    fill_range=(1.0 / 11, 1.0 / 3),\n",
    "    ticks=[1.0 / 11, 1.0 / 3, 1.0 / 2],\n",
    ")"
   ]
  },
  {
   "cell_type": "markdown",
   "id": "4a610977",
   "metadata": {},
   "source": [
    "## Comparing classifiers with respect to ranking & calibration\n",
    "The orange classifier in the vignette below has good ranking and poor calibration. The blue classifier has slightly worse ranking but is much better calibrated. \n",
    "\n",
    "Depending on the metrics we use to visually compare classifier performance, we may make very different choices.\n",
    "\n",
    "Using AUC-ROC (as in the left subplot), we would choose the orange classifier. However, if we looked at the expectation of regret over all possible accuracies (i.e. the center plot with log loss), we would choose the blue classifier. The plot (right subplot) decomposing the expected regret into discrimination and calibration losses explains why this is the case."
   ]
  },
  {
   "cell_type": "code",
   "execution_count": null,
   "id": "07ffa088",
   "metadata": {},
   "outputs": [],
   "source": [
    "fig, axs = plt.subplots(1, 3, figsize=(30, 10))\n",
    "\n",
    "titles = [\n",
    "    \"AUC-ROC\",\n",
    "    \"Log Loss\",\n",
    "    \"Log Loss Decomposition\",\n",
    "]\n",
    "xlabels = [\n",
    "    \"False Positive Rate\",\n",
    "    \"Accuracy\",\n",
    "    \"Calibration Loss\",\n",
    "]\n",
    "ylabels = [\n",
    "    \"True Positive Rate\",\n",
    "    \"Regret (lower is better)\",\n",
    "    \"Discrimination Loss\",\n",
    "]\n",
    "\n",
    "y_pred_a, y_true_a = simulate_binormal(0.8, 1, fix=False, n=300)\n",
    "y_pred_b, y_true_b = simulate_binormal(3, 0.5, loc_neg=1, fix=False, n=300)\n",
    "\n",
    "for y_pred, y_true, clf_name in [(y_pred_a, y_true_a, 'A'), (y_pred_b, y_true_b, 'B')]:\n",
    "    plt.sca(axs[0])\n",
    "    fpr, tpr, _ = roc_curve(y_true, y_pred)\n",
    "    auc = roc_auc_score(y_true, y_pred)\n",
    "    plt.plot(fpr, tpr, label=f\"AUC: {auc:.2f}\")\n",
    "    \n",
    "    plt.sca(axs[1])\n",
    "    log_loss_scorer.plot_curve(y_true, y_pred, ticks=[1.0 / 101, 1.0 / 2])\n",
    "    \n",
    "    plt.sca(axs[2])\n",
    "    calibration_loss, discrimination_loss = log_loss_scorer._partition_loss(y_true, y_pred, log_loss_scorer.score)\n",
    "    # print(calibration_loss, discrimination_loss)\n",
    "    plt.scatter(calibration_loss, discrimination_loss, s=100)\n",
    "    plt.xlim([0, 0.6])\n",
    "    plt.ylim([0, 0.6])\n",
    "    \n",
    "for i in range(len(axs)):\n",
    "    axs[i].set_title(titles[i])\n",
    "    axs[i].set_xlabel(xlabels[i])\n",
    "    axs[i].set_ylabel(ylabels[i])\n",
    "    if len(axs[i].artists) > 0:\n",
    "        axs[i].legend()\n",
    "\n",
    "plt.tight_layout()\n",
    "plt.text(-1.0, 0.7, \"Comparing AUC-ROC, Log Loss, and Decomposition Plots\", size=50)"
   ]
  },
  {
   "cell_type": "markdown",
   "id": "83801b0c",
   "metadata": {},
   "source": [
    "## Decision Curve Analysis with Rescaling"
   ]
  },
  {
   "cell_type": "code",
   "execution_count": null,
   "id": "72460cdb",
   "metadata": {},
   "outputs": [],
   "source": [
    "y_hat_0, y_0 = simulate_binormal(0.8, 1, fix=False, n=300)\n",
    "y_hat_1, y_1 = simulate_binormal(3, 0.5, loc_neg=1, fix=False, n=300)\n",
    "\n",
    "fig, axs = plt.subplots(1, 3, figsize=(30, 10), sharey=True)\n",
    "axs[2].set_xscale(\"log\")\n",
    "scale_x_one_minus_one_minus_x_2(axs[1])\n",
    "\n",
    "for ax in axs:\n",
    "    plt.sca(ax)\n",
    "    dca_scorer.plot_curve(\n",
    "        y_1,\n",
    "        y_hat_1,\n",
    "        ticks=[1.0 / 101, 1.0 / 2],\n",
    "        threshold_range=[1e-2, 1 - 1e-2],\n",
    "        fill_range=0.15 if ax != axs[0] else None,\n",
    "    )\n",
    "    dca_scorer.plot_curve(\n",
    "        y_0,\n",
    "        y_hat_0,\n",
    "        ticks=[1.0 / 101, 1.0 / 2],\n",
    "        threshold_range=[1e-2, 1 - 1e-2],\n",
    "        fill_range=0.4 if ax != axs[0] else None,\n",
    "    )\n",
    "    if ax != axs[0]:\n",
    "        plt.axhline(y=0.5, color=\"black\", linestyle=\"--\", lw=0.5, zorder=-10)\n",
    "\n",
    "xtick_labels = [\n",
    "    r\"$\\frac{1}{10}$ $\\frac{1}{4}$ $\\frac{1}{2}$ $\\frac{3}{4}$\".split(),\n",
    "    r\"$\\frac{1}{10}$ $\\frac{1}{4}$ $\\frac{1}{2}$ $\\frac{3}{4}$\".split(),\n",
    "    r\"$\\frac{1}{100}$ $\\frac{1}{10}$ $\\frac{1}{4}$ $\\frac{1}{2}$ $\\frac{3}{4}$\".split(),\n",
    "]\n",
    "xticks = [\n",
    "    [0.1, 0.25, 0.5, 0.75],\n",
    "    [0.1, 0.25, 0.5, 0.75],\n",
    "    [0.01, 0.1, 0.25, 0.5, 0.75],\n",
    "]\n",
    "xlabels = [\n",
    "    \"C/L\\n(Linear Scale)\",\n",
    "    \"C/L\\n(Quadratic Scale)\",\n",
    "    \"C/L\\n(Logistic Scale)\",\n",
    "]\n",
    "ylabels = [\n",
    "    \"Net Benefit\\n(in True Positives)\",\n",
    "    \"\",\n",
    "    \"\",\n",
    "]\n",
    "titles = [\n",
    "    \"Original\",\n",
    "    \"Brier Score\",\n",
    "    \"Log Loss\",\n",
    "]\n",
    "for i in range(len(axs)):\n",
    "    axs[i].set_title(titles[i])\n",
    "    axs[i].set_xlabel(xlabels[i])\n",
    "    axs[i].set_ylabel(ylabels[i])\n",
    "    axs[i].set_xlim([1e-2, 1 - 1e-2])\n",
    "    axs[i].set_xticks(\n",
    "        xticks[i],\n",
    "        xtick_labels[i],\n",
    "    )\n",
    "\n",
    "plt.suptitle(\"Decision Curve Analysis (with Rescaling)\")\n",
    "plt.tight_layout()\n",
    "plt.show()"
   ]
  },
  {
   "cell_type": "code",
   "execution_count": null,
   "id": "6ad43c9d",
   "metadata": {},
   "outputs": [],
   "source": []
  }
 ],
 "metadata": {
  "kernelspec": {
   "display_name": "Python 3 (ipykernel)",
   "language": "python",
   "name": "python3"
  },
  "language_info": {
   "codemirror_mode": {
    "name": "ipython",
    "version": 3
   },
   "file_extension": ".py",
   "mimetype": "text/x-python",
   "name": "python",
   "nbconvert_exporter": "python",
   "pygments_lexer": "ipython3",
   "version": "3.9.19"
  }
 },
 "nbformat": 4,
 "nbformat_minor": 5
}
